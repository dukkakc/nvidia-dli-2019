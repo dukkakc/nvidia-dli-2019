{
 "cells": [
  {
   "cell_type": "markdown",
   "metadata": {},
   "source": [
    "# [Fannie Mae Single-Family Loan Performance Data](https://www.fanniemae.com/portal/funding-the-market/data/loan-performance-data.html)\n",
    "[https://docs.rapids.ai/datasets/mortgage-data](https://docs.rapids.ai/datasets/mortgage-data)"
   ]
  },
  {
   "cell_type": "code",
   "execution_count": null,
   "metadata": {},
   "outputs": [],
   "source": [
    "# Import Python modules from the Python Standard Library\n",
    "import os\n",
    "import glob\n",
    "import collections"
   ]
  },
  {
   "cell_type": "markdown",
   "metadata": {},
   "source": [
    "[https://docs.python.org/3/library/](https://docs.python.org/3/library/)\n",
    "\n",
    "[https://automatetheboringstuff.com/](https://automatetheboringstuff.com/)"
   ]
  },
  {
   "cell_type": "code",
   "execution_count": null,
   "metadata": {},
   "outputs": [],
   "source": [
    "# Import common Python modules for data science and machine learning applications\n",
    "import matplotlib\n",
    "import numpy\n",
    "import pandas"
   ]
  },
  {
   "cell_type": "markdown",
   "metadata": {},
   "source": [
    "[https://matplotlib.org/](https://matplotlib.org/)\n",
    "\n",
    "[https://www.numpy.org/](https://www.numpy.org/)\n",
    "\n",
    "[https://pandas.pydata.org/](https://pandas.pydata.org/)"
   ]
  },
  {
   "cell_type": "code",
   "execution_count": null,
   "metadata": {},
   "outputs": [],
   "source": [
    "# Import NVIDIA's RAPIDS GPU-acclerated Python modules for data science and machine learning applications\n",
    "import cudf"
   ]
  },
  {
   "cell_type": "code",
   "execution_count": null,
   "metadata": {},
   "outputs": [],
   "source": [
    "# Define environment variables\n",
    "USER = os.environ['USER']\n",
    "#SLURM_JOB_ID = os.environ['SLURM_JOB_ID']\n",
    "PROJECT_ID = 'use300'"
   ]
  },
  {
   "cell_type": "code",
   "execution_count": null,
   "metadata": {},
   "outputs": [],
   "source": [
    "# Define paths to filesystems\n",
    "#LOCAL_SCRATCH_DIR = os.path.join('/scratch', USER, SLURM_JOB_ID)\n",
    "OASIS_SCRATCH_DIR = os.path.join('/oasis/scratch/comet', USER, 'temp_project')\n",
    "OASIS_PROJECT_DIR = os.path.join('/oasis/projects/nsf', PROJECT_ID, USER)"
   ]
  },
  {
   "cell_type": "code",
   "execution_count": null,
   "metadata": {},
   "outputs": [],
   "source": [
    "# Define path to root directory where the different datasets are located\n",
    "FANNIE_MAE_ROOT_DIR = os.path.join(OASIS_SCRATCH_DIR,'data/fannie-mae/single-family-loan-performance')"
   ]
  },
  {
   "cell_type": "code",
   "execution_count": null,
   "metadata": {},
   "outputs": [],
   "source": [
    "# List available datasets\n",
    "sorted(os.listdir(FANNIE_MAE_ROOT_DIR))"
   ]
  },
  {
   "cell_type": "code",
   "execution_count": null,
   "metadata": {},
   "outputs": [],
   "source": [
    "# Choose dataset\n",
    "FANNIE_MAE_DATASET = 'mortgage_2000-2016_1gb'"
   ]
  },
  {
   "cell_type": "code",
   "execution_count": null,
   "metadata": {},
   "outputs": [],
   "source": [
    "# Define path to dataset\n",
    "FANNIE_MAE_DATASET_DIR = os.path.join(FANNIE_MAE_ROOT_DIR, FANNIE_MAE_DATASET)\n",
    "FANNIE_MAE_DATASET_TARBALL = FANNIE_MAE_DATASET_DIR + '.tgz'"
   ]
  },
  {
   "cell_type": "code",
   "execution_count": null,
   "metadata": {},
   "outputs": [],
   "source": [
    "# Define paths to loan acquisition and performance dataset directories\n",
    "ACQUISITION_DATA_DIR = os.path.join(FANNIE_MAE_DATASET_DIR, 'acq')\n",
    "PERFORMANCE_DATA_DIR = os.path.join(FANNIE_MAE_DATASET_DIR, 'perf')"
   ]
  },
  {
   "cell_type": "code",
   "execution_count": null,
   "metadata": {},
   "outputs": [],
   "source": [
    "# List all files in loan acquisition data directory as well as size in bytes\n",
    "acquisition_files = sorted(os.listdir(ACQUISITION_DATA_DIR))\n",
    "for acq_file in acquisition_files:\n",
    "    print(acq_file, os.stat(os.path.join(ACQUISITION_DATA_DIR, acq_file)).st_size)"
   ]
  },
  {
   "cell_type": "code",
   "execution_count": null,
   "metadata": {
    "scrolled": true
   },
   "outputs": [],
   "source": [
    "# List all files in loan performance data directory as well as size in bytes\n",
    "performance_files = sorted(os.listdir(PERFORMANCE_DATA_DIR))\n",
    "for perf_file in performance_files:\n",
    "    print(perf_file, os.stat(os.path.join(PERFORMANCE_DATA_DIR, perf_file)).st_size)"
   ]
  },
  {
   "cell_type": "code",
   "execution_count": null,
   "metadata": {},
   "outputs": [],
   "source": [
    "# Select the first year and quarter to begin analysis on\n",
    "begin_year = 2000\n",
    "begin_quarter = 1\n",
    "\n",
    "# Select last year and quarter to end analysis on\n",
    "end_year = 2016\n",
    "end_quarter = 4"
   ]
  },
  {
   "cell_type": "code",
   "execution_count": null,
   "metadata": {},
   "outputs": [],
   "source": [
    "# Create a list of all quarterly loan acquisition and performance data files required for analysis\n",
    "acquisition_files = list()\n",
    "performance_files = list()\n",
    "years = list(range(begin_year, end_year+1))\n",
    "for year in years:\n",
    "    # Determine the number of quarters in each year to analyze\n",
    "    if (year == begin_year):\n",
    "        quarters = list(range(begin_quarter, 5))\n",
    "    elif (year == end_year):\n",
    "        quarters = list(range(1, end_quarter+1))\n",
    "    else:\n",
    "        quarters = list(range(1, 5))\n",
    "    # Get absolute path for each quarterly loan acquisition and performance data file\n",
    "    for quarter in quarters:\n",
    "        acquisition_files.extend(glob.glob(os.path.abspath(os.path.join(ACQUISITION_DATA_DIR,'Acquisition_' + str(year) + 'Q' + str(quarter) + '.*'))))\n",
    "        performance_files.extend(glob.glob(os.path.abspath(os.path.join(PERFORMANCE_DATA_DIR,'Performance_' + str(year) + 'Q' + str(quarter) + '.*'))))"
   ]
  },
  {
   "cell_type": "code",
   "execution_count": null,
   "metadata": {},
   "outputs": [],
   "source": [
    "# Print first few lines from a loan acquisition file\n",
    "number_of_lines = 5\n",
    "with open(acquisition_files[0], 'r') as acq_file:\n",
    "    for x in range(number_of_lines):\n",
    "        print(acq_file.readline())"
   ]
  },
  {
   "cell_type": "code",
   "execution_count": null,
   "metadata": {},
   "outputs": [],
   "source": [
    "# Print first few lines from a loan performance data file\n",
    "number_of_lines = 5\n",
    "with open(performance_files[0], 'r') as perf_file:\n",
    "    for x in range(number_of_lines):\n",
    "        print(perf_file.readline())"
   ]
  },
  {
   "cell_type": "markdown",
   "metadata": {},
   "source": [
    "[https://loanperformancedata.fanniemae.com/lppub-docs/FNMA_SF_Loan_Performance_File_layout.pdf](https://loanperformancedata.fanniemae.com/lppub-docs/FNMA_SF_Loan_Performance_File_layout.pdf)\n",
    "\n",
    "[https://loanperformancedata.fanniemae.com/lppub-docs/FNMA_SF_Loan_Performance_Glossary.pdf](https://loanperformancedata.fanniemae.com/lppub-docs/FNMA_SF_Loan_Performance_Glossary.pdf)"
   ]
  },
  {
   "cell_type": "code",
   "execution_count": null,
   "metadata": {},
   "outputs": [],
   "source": [
    "# Define ordered dictionary of column data types for loan acquisition dataset\n",
    "acquisition_data_columns = collections.OrderedDict()\n",
    "acquisition_data_columns['loan_identifier'] = 'Int64'\n",
    "acquisition_data_columns['origination_channel'] = 'category'\n",
    "acquisition_data_columns['seller_name'] = 'category'\n",
    "acquisition_data_columns['original_interest_rate'] = 'float64'\n",
    "acquisition_data_columns['original_unpaid_principal_balance'] = 'Int64'\n",
    "acquisition_data_columns['original_loan_term'] = 'Int64'\n",
    "acquisition_data_columns['origination_date'] = 'object'\n",
    "acquisition_data_columns['first_payment_date'] ='object'\n",
    "acquisition_data_columns['original_loan_to_value'] = 'float64'\n",
    "acquisition_data_columns['original_combined_loan_to_value'] = 'float64'\n",
    "acquisition_data_columns['number_of_borrowers'] = 'Int64'\n",
    "acquisition_data_columns['original_debt_to_income_ratio'] = 'float64'\n",
    "acquisition_data_columns['borrower_credit_score_at_origination'] = 'Int64'\n",
    "acquisition_data_columns['first_time_home_buyer_indicator'] = 'category'\n",
    "acquisition_data_columns['loan_purpose'] = 'category'\n",
    "acquisition_data_columns['property_type'] = 'category'\n",
    "acquisition_data_columns['number_of_units'] = 'Int64'\n",
    "acquisition_data_columns['occupancy_type'] = 'category'\n",
    "acquisition_data_columns['property_state'] = 'category'\n",
    "acquisition_data_columns['zip_code_short'] = 'Int64'\n",
    "acquisition_data_columns['primary_mortgage_insurance_percent'] = 'float64'\n",
    "acquisition_data_columns['product_type'] = 'category'\n",
    "acquisition_data_columns['co-borrower_credit_score_at_origination'] = 'Int64'\n",
    "acquisition_data_columns['mortgage_insurance_type'] = 'Int64'\n",
    "acquisition_data_columns['relocation_mortgage_indicator'] = 'category'\n",
    "acquisition_data_columns['year_quarter'] = 'Int64'"
   ]
  },
  {
   "cell_type": "code",
   "execution_count": null,
   "metadata": {},
   "outputs": [],
   "source": [
    "# Define ordered dictionary of column data types for loan performance dataset\n",
    "performance_data_columns = collections.OrderedDict()\n",
    "performance_data_columns['loan_identifier'] = 'Int64'\n",
    "performance_data_columns['monthly_reporting_period'] = 'object'\n",
    "performance_data_columns['servicer_name'] = 'category'\n",
    "performance_data_columns['current_interest_rate'] = 'float64'\n",
    "performance_data_columns['current_actual_unpaid_principal_balance'] = 'float64'\n",
    "performance_data_columns['loan_age'] = 'Int64'\n",
    "performance_data_columns['remaining_months_to_legal_maturity'] = 'Int64'\n",
    "performance_data_columns['adjusted_months_to_maturity'] = 'Int64'\n",
    "performance_data_columns['maturity_date'] = 'object'\n",
    "performance_data_columns['metropolitan_statistical_area'] = 'Int64'\n",
    "performance_data_columns['current_loan_delinquency_status'] = 'Int64'\n",
    "performance_data_columns['modification_flag'] = 'category'\n",
    "performance_data_columns['zero_balance_code'] = 'category'\n",
    "performance_data_columns['zero_balance_effective_date'] = 'object'\n",
    "performance_data_columns['last_paid_installment_date'] = 'object'\n",
    "performance_data_columns['foreclosure_date'] = 'object'\n",
    "performance_data_columns['disposition_date'] = 'object'\n",
    "performance_data_columns['foreclosure_costs'] = 'float64'\n",
    "performance_data_columns['property_preservation_and_repair_costs'] = 'float64'\n",
    "performance_data_columns['asset_recovery_costs'] = 'float64'\n",
    "performance_data_columns['miscellaneous_holding_expenses_and_credits'] = 'float64'\n",
    "performance_data_columns['associated_taxes_for_holding_property'] = 'float64'\n",
    "performance_data_columns['net_sale_proceeds'] = 'float64'\n",
    "performance_data_columns['credit_enhancement_proceeds'] = 'float64'\n",
    "performance_data_columns['repurchase_make_whole_proceeds'] = 'float64'\n",
    "performance_data_columns['other_forclosure_proceeds'] = 'float64'\n",
    "performance_data_columns['non-interest_bearing_unpaid_principal_balance'] = 'float64'\n",
    "performance_data_columns['principal_forgiveness_amount'] = 'float64'\n",
    "performance_data_columns['repurchase_make_whole_proceeds_flag'] = 'category'\n",
    "performance_data_columns['foreclosure_principal_write-off_amount'] = 'float64'\n",
    "performance_data_columns['servicing_activity_indicator'] = 'category'"
   ]
  },
  {
   "cell_type": "code",
   "execution_count": null,
   "metadata": {},
   "outputs": [],
   "source": [
    "%%time\n",
    "# Read in all loan acquisition data into a Pandas DataFrame via pandas.read_csv method\n",
    "#   https://tomaugspurger.github.io/modern-4-performance.html\n",
    "acquisition_pdf = pandas.DataFrame()\n",
    "for acq_file in acquisition_files:\n",
    "    acquisition_pdf = acquisition_pdf.append(pandas.read_csv(acq_file, names=acquisition_data_columns.keys(), delimiter='|', dtype=acquisition_data_columns), ignore_index=True, sort=False)"
   ]
  },
  {
   "cell_type": "code",
   "execution_count": null,
   "metadata": {},
   "outputs": [],
   "source": [
    "# Check loan acquisition datatypes\n",
    "acquisition_pdf.dtypes"
   ]
  },
  {
   "cell_type": "code",
   "execution_count": null,
   "metadata": {},
   "outputs": [],
   "source": [
    "# Convert some date-related object datatype columns in aquisition_pdf to datetime datatype columns\n",
    "acquisition_pdf['origination_date'] = pandas.to_datetime(acquisition_pdf['origination_date'], format='%m/%Y')\n",
    "acquisition_pdf['first_payment_date'] = pandas.to_datetime(acquisition_pdf['first_payment_date'], format='%m/%Y')"
   ]
  },
  {
   "cell_type": "code",
   "execution_count": null,
   "metadata": {},
   "outputs": [],
   "source": [
    "# Convert some other object datatype columns in aquisition_pdf to category datatype columns\n",
    "acquisition_pdf['seller_name'] = acquisition_pdf['seller_name'].astype('category')\n",
    "acquisition_pdf['first_time_home_buyer_indicator'] = acquisition_pdf['first_time_home_buyer_indicator'].astype('category')\n",
    "acquisition_pdf['loan_purpose'] = acquisition_pdf['loan_purpose'].astype('category')\n",
    "acquisition_pdf['property_state'] = acquisition_pdf['property_state'].astype('category')"
   ]
  },
  {
   "cell_type": "code",
   "execution_count": null,
   "metadata": {},
   "outputs": [],
   "source": [
    "# Re-check loan acquisition datatypes\n",
    "acquisition_pdf.dtypes"
   ]
  },
  {
   "cell_type": "code",
   "execution_count": null,
   "metadata": {},
   "outputs": [],
   "source": [
    "# Print first few rows of acquisition_pdf\n",
    "acquisition_pdf.head()"
   ]
  },
  {
   "cell_type": "code",
   "execution_count": null,
   "metadata": {},
   "outputs": [],
   "source": [
    "# Print last few rows of acquisition_pdf\n",
    "acquisition_pdf.tail()"
   ]
  },
  {
   "cell_type": "code",
   "execution_count": null,
   "metadata": {},
   "outputs": [],
   "source": [
    "# Print total number of loans in acquisition_pdf\n",
    "len(acquisition_pdf)"
   ]
  },
  {
   "cell_type": "code",
   "execution_count": null,
   "metadata": {},
   "outputs": [],
   "source": [
    "# Check the categories in the property_state column of acquisition_pdf\n",
    "acquisition_pdf.property_state.cat.categories"
   ]
  },
  {
   "cell_type": "code",
   "execution_count": null,
   "metadata": {},
   "outputs": [],
   "source": [
    "%%time\n",
    "# Read in all loan performance data into a Pandas DataFrame via pandas.read_csv method\n",
    "performance_pdf = pandas.DataFrame()\n",
    "for perf_file in performance_files:\n",
    "    performance_pdf = performance_pdf.append(pandas.read_csv(perf_file, names=performance_data_columns.keys(), delimiter='|', dtype=performance_data_columns), ignore_index=True, sort=False)"
   ]
  },
  {
   "cell_type": "code",
   "execution_count": null,
   "metadata": {},
   "outputs": [],
   "source": [
    "# Check loan performance datatypes\n",
    "performance_pdf.dtypes"
   ]
  },
  {
   "cell_type": "code",
   "execution_count": null,
   "metadata": {},
   "outputs": [],
   "source": [
    "# Convert some date-related object datatype columns in performance_pdf to datetime datatype columns\n",
    "performance_pdf['monthly_reporting_period'] = pandas.to_datetime(performance_pdf['monthly_reporting_period'], format='%m/%d/%Y')\n",
    "performance_pdf['maturity_date'] = pandas.to_datetime(performance_pdf['maturity_date'], format='%m/%Y')\n",
    "performance_pdf['zero_balance_effective_date'] = pandas.to_datetime(performance_pdf['zero_balance_effective_date'], format='%m/%Y')\n",
    "performance_pdf['last_paid_installment_date'] = pandas.to_datetime(performance_pdf['last_paid_installment_date'], format='%m/%d/%Y')\n",
    "performance_pdf['foreclosure_date'] = pandas.to_datetime(performance_pdf['foreclosure_date'], format='%m/%d/%Y')\n",
    "performance_pdf['disposition_date'] = pandas.to_datetime(performance_pdf['disposition_date'], format='%m/%d/%Y')"
   ]
  },
  {
   "cell_type": "code",
   "execution_count": null,
   "metadata": {},
   "outputs": [],
   "source": [
    "# Print first few rows of performance_pdf \n",
    "performance_pdf.head()"
   ]
  },
  {
   "cell_type": "code",
   "execution_count": null,
   "metadata": {},
   "outputs": [],
   "source": [
    "# Print last few rows of acquisition_pdf\n",
    "performance_pdf.tail()"
   ]
  },
  {
   "cell_type": "code",
   "execution_count": null,
   "metadata": {},
   "outputs": [],
   "source": [
    "# Print total number of loans in acquisition_pdf\n",
    "len(performance_pdf)"
   ]
  },
  {
   "cell_type": "code",
   "execution_count": null,
   "metadata": {},
   "outputs": [],
   "source": [
    "# Check the categories in the modification_flag of performance_pdf\n",
    "performance_pdf.modification_flag.cat.categories"
   ]
  },
  {
   "cell_type": "markdown",
   "metadata": {},
   "source": [
    "[https://en.wikipedia.org/wiki/Conforming_loan](https://en.wikipedia.org/wiki/Conforming_loan)"
   ]
  },
  {
   "cell_type": "code",
   "execution_count": null,
   "metadata": {},
   "outputs": [],
   "source": [
    "%%time \n",
    "# Filter the loan acquisition data using the pandas.DataFrame.query method ...\n",
    "#\n",
    "# How many loans were made for more than $400,000?\n",
    "acquisition_pdf.query('original_unpaid_principal_balance > 400000')"
   ]
  },
  {
   "cell_type": "code",
   "execution_count": null,
   "metadata": {},
   "outputs": [],
   "source": [
    "%%time\n",
    "# How many loans were made in California for more than $400,000?\n",
    "acquisition_pdf.query('property_state == \"CA\" and original_unpaid_principal_balance > 400000')"
   ]
  },
  {
   "cell_type": "code",
   "execution_count": null,
   "metadata": {},
   "outputs": [],
   "source": [
    "%%time\n",
    "# How many loans were made in either California or New York for more than $400,000?\n",
    "acquisition_pdf.query('(property_state == \"CA\" or property_state == \"NY\") and original_unpaid_principal_balance > 400000')"
   ]
  },
  {
   "cell_type": "code",
   "execution_count": null,
   "metadata": {},
   "outputs": [],
   "source": [
    "%%time\n",
    "# How many loans were made in either California, New York, or Florida for more than $400,000 to principal borrowers who had a credit score of less than 650?\n",
    "acquisition_pdf.query('(property_state == \"CA\" or property_state == \"NY\" or property_state ==\"FL\") and original_unpaid_principal_balance > 400000 and borrower_credit_score_at_origination < 650')"
   ]
  },
  {
   "cell_type": "code",
   "execution_count": null,
   "metadata": {},
   "outputs": [],
   "source": [
    "%%time\n",
    "# Use pandas.DataFrame.groupby method to create summary statistics ...\n",
    "#\n",
    "# What was the total number of loans originated per month?\n",
    "total_number_of_loan_acquisitions = acquisition_pdf.groupby('origination_date')['loan_identifier'].count().to_frame()\n",
    "total_number_of_loan_acquisitions.plot(figsize=(16,8))\n",
    "matplotlib.pyplot.show()"
   ]
  },
  {
   "cell_type": "markdown",
   "metadata": {},
   "source": [
    "[https://fred.stlouisfed.org/series/FEDFUNDS](https://fred.stlouisfed.org/series/FEDFUNDS)"
   ]
  },
  {
   "cell_type": "code",
   "execution_count": null,
   "metadata": {},
   "outputs": [],
   "source": [
    "%%time\n",
    "# What was the total unpaid principal balance originated per month (in billions of dollars)?\n",
    "total_unpaid_principal_balances  = acquisition_pdf.groupby('origination_date')['original_unpaid_principal_balance'].sum().to_frame().div(1000000000)\n",
    "total_unpaid_principal_balances.plot(figsize=(16,8))\n",
    "matplotlib.pyplot.show()"
   ]
  },
  {
   "cell_type": "code",
   "execution_count": null,
   "metadata": {},
   "outputs": [],
   "source": [
    "%%time\n",
    "# What was the average unpaid principal balance at origination?\n",
    "average_unpaid_principal_balances  = acquisition_pdf.groupby('origination_date')['original_unpaid_principal_balance'].mean().to_frame()\n",
    "average_unpaid_principal_balances.plot(figsize=(16,8))\n",
    "matplotlib.pyplot.show()"
   ]
  },
  {
   "cell_type": "code",
   "execution_count": null,
   "metadata": {},
   "outputs": [],
   "source": [
    "%%time\n",
    "# What was the average loan to value ratio at originiation?\n",
    "average_loan_to_value  = acquisition_pdf.groupby('origination_date')['original_loan_to_value'].mean().to_frame()\n",
    "average_loan_to_value.plot(figsize=(16,8))\n",
    "matplotlib.pyplot.show()"
   ]
  },
  {
   "cell_type": "markdown",
   "metadata": {},
   "source": [
    "[https://en.wikipedia.org/wiki/Loan-to-value_ratio](https://en.wikipedia.org/wiki/Loan-to-value_ratio)\n",
    "\n",
    "[https://fred.stlouisfed.org/series/ASPUS](https://fred.stlouisfed.org/series/ASPUS)\n",
    "\n",
    "[https://en.wikipedia.org/wiki/Subprime_mortgage_crisis#/media/File:Subprime_mortgage_originations,_1996-2008.GIF](https://en.wikipedia.org/wiki/Subprime_mortgage_crisis#/media/File:Subprime_mortgage_originations,_1996-2008.GIF)"
   ]
  },
  {
   "cell_type": "code",
   "execution_count": null,
   "metadata": {},
   "outputs": [],
   "source": [
    "%%time\n",
    "# What was the average credit score of a borrower at originiation?\n",
    "average_credit_score  = acquisition_pdf.groupby('origination_date')['borrower_credit_score_at_origination'].mean().to_frame()\n",
    "average_credit_score.plot(figsize=(16,8))\n",
    "matplotlib.pyplot.show()"
   ]
  },
  {
   "cell_type": "code",
   "execution_count": null,
   "metadata": {},
   "outputs": [],
   "source": [
    "%%time\n",
    "# What was the average debt-to-income ratio of a borrower at origination?\n",
    "average_debt_to_income  = acquisition_pdf.groupby('origination_date')['original_debt_to_income_ratio'].mean().to_frame()\n",
    "average_debt_to_income .plot(figsize=(16,8))\n",
    "matplotlib.pyplot.show()"
   ]
  },
  {
   "cell_type": "code",
   "execution_count": null,
   "metadata": {},
   "outputs": [],
   "source": [
    "%%time\n",
    "# What was the average interest rate on a loan at origination?\n",
    "average_interest_rate = acquisition_pdf.groupby('origination_date')['original_interest_rate'].mean().to_frame()\n",
    "average_interest_rate.plot(figsize=(16,8))\n",
    "matplotlib.pyplot.show()"
   ]
  },
  {
   "cell_type": "markdown",
   "metadata": {},
   "source": [
    "[https://fred.stlouisfed.org/series/WALCL](https://fred.stlouisfed.org/series/WALCL)"
   ]
  },
  {
   "cell_type": "code",
   "execution_count": null,
   "metadata": {},
   "outputs": [],
   "source": [
    "%%time\n",
    "# Combine monthly summary statistics series into a single pandas DataFrame.\n",
    "acquisition_summary_pdf = pandas.concat([total_number_of_loan_acquisitions, total_unpaid_principal_balances,average_unpaid_principal_balances,average_loan_to_value,average_credit_score,average_debt_to_income,average_interest_rate], axis=1)\n",
    "acquisition_summary_pdf"
   ]
  },
  {
   "cell_type": "code",
   "execution_count": null,
   "metadata": {},
   "outputs": [],
   "source": [
    "%%time\n",
    "# Create a cuDF loan acquisition DataFrame on an NVIDIA GPU from the existing loan acquisition pandas DataFrame\n",
    "acquisition_cudf = cudf.DataFrame.from_pandas(acquisition_pdf)"
   ]
  },
  {
   "cell_type": "code",
   "execution_count": null,
   "metadata": {},
   "outputs": [],
   "source": [
    "# Re-check loan acquisition datatypes in acquisition_cudf\n",
    "acquisition_cudf.dtypes"
   ]
  },
  {
   "cell_type": "code",
   "execution_count": null,
   "metadata": {},
   "outputs": [],
   "source": [
    "# Print first few rows of acquisition_cudf\n",
    "acquisition_cudf.head().to_pandas()"
   ]
  },
  {
   "cell_type": "code",
   "execution_count": null,
   "metadata": {},
   "outputs": [],
   "source": [
    "# Print total number of loans in acquisition_cudf\n",
    "len(acquisition_cudf)"
   ]
  },
  {
   "cell_type": "code",
   "execution_count": null,
   "metadata": {},
   "outputs": [],
   "source": [
    "%%time\n",
    "# Filter the loan acquisition data using the cuDF DataFrame.query method ...\n",
    "# How many loans were made for more than $400,000?\n",
    "print(acquisition_cudf.query('original_unpaid_principal_balance > 400000'))"
   ]
  },
  {
   "cell_type": "code",
   "execution_count": null,
   "metadata": {},
   "outputs": [],
   "source": [
    "%%time\n",
    "# What if we dump cuDF DataFrame from GPU to CPU?\n",
    "acquisition_cudf.query('original_unpaid_principal_balance > 400000').to_pandas()"
   ]
  },
  {
   "cell_type": "code",
   "execution_count": null,
   "metadata": {},
   "outputs": [],
   "source": [
    "%%time\n",
    "# How many loans were made in California for more than $400,000?\n",
    "acquisition_cudf.query('property_state == \"CA\" and original_unpaid_principal_balance > 400000')"
   ]
  },
  {
   "cell_type": "code",
   "execution_count": null,
   "metadata": {},
   "outputs": [],
   "source": [
    "%%time\n",
    "# cuDF does not (appear to) currently recognize string variables in query method ...\n",
    "acquisition_cudf.query('property_state == 4 and original_unpaid_principal_balance > 400000').to_pandas()"
   ]
  },
  {
   "cell_type": "code",
   "execution_count": null,
   "metadata": {},
   "outputs": [],
   "source": [
    "%%time\n",
    "# How many loans were made in either California (4), New York (35), or Florida (9)for more than $400,000 to principal borrowers who had a credit score of less than 650?\n",
    "acquisition_cudf.query('(property_state == 4 or property_state == 35 or property_state == 9) and original_unpaid_principal_balance > 400000 and borrower_credit_score_at_origination < 650').to_pandas()"
   ]
  },
  {
   "cell_type": "code",
   "execution_count": null,
   "metadata": {},
   "outputs": [],
   "source": [
    "%%time\n",
    "# Use cuDF.DataFrame.groupby method to create summary statistics ...\n",
    "#\n",
    "# What was the total number of loans originated per month?\n",
    "total_number_of_loan_acquisitions_cudf = acquisition_cudf.groupby('origination_date')['loan_identifier'].count().to_frame()\n",
    "total_number_of_loan_acquisitions_cudf.to_pandas().plot(figsize=(16,8))\n",
    "matplotlib.pyplot.show()"
   ]
  },
  {
   "cell_type": "code",
   "execution_count": null,
   "metadata": {},
   "outputs": [],
   "source": [
    "%%time\n",
    "# Create a cuDF loan performance DataFrame on an NVIDIA GPU from the existing loan performance pandas DataFrame\n",
    "# *** WARNING: The loan performance datasets are quite LARGE! You may run out of memory on a single GPU!\n",
    "performance_cudf = cudf.DataFrame.from_pandas(performance_pdf)"
   ]
  }
 ],
 "metadata": {
  "kernelspec": {
   "display_name": "Python 3",
   "language": "python",
   "name": "python3"
  },
  "language_info": {
   "codemirror_mode": {
    "name": "ipython",
    "version": 3
   },
   "file_extension": ".py",
   "mimetype": "text/x-python",
   "name": "python",
   "nbconvert_exporter": "python",
   "pygments_lexer": "ipython3",
   "version": "3.7.3"
  }
 },
 "nbformat": 4,
 "nbformat_minor": 2
}
